{
 "cells": [
  {
   "cell_type": "markdown",
   "id": "7fcd51d2",
   "metadata": {},
   "source": [
    "# Web scrapping to create CSV"
   ]
  },
  {
   "cell_type": "markdown",
   "id": "04d2f968",
   "metadata": {},
   "source": [
    "##The \"Web Scraping: Quotes Author CSV Generator\" is a Python script that performs web scraping on the \"http://quotes.toscrape.com/\" website to extract author names from multiple pages and save them in a CSV file. The script uses the BeautifulSoup library to parse the web page and requests library to fetch data from the website. The resulting CSV file contains a list of unique author names."
   ]
  },
  {
   "cell_type": "code",
   "execution_count": 1,
   "id": "8f0d8499",
   "metadata": {},
   "outputs": [],
   "source": [
    "from bs4 import BeautifulSoup as bs\n",
    "import requests\n",
    "import csv"
   ]
  },
  {
   "cell_type": "code",
   "execution_count": 3,
   "id": "1f0d76c0",
   "metadata": {},
   "outputs": [
    {
     "name": "stdout",
     "output_type": "stream",
     "text": [
      "CSV file created successfully!\n"
     ]
    }
   ],
   "source": [
    "\n",
    "author=[]\n",
    "dict={}\n",
    "for k in range(1,11,1):\n",
    "    if k==1:\n",
    "        response=requests.get('http://quotes.toscrape.com/')\n",
    "    else:\n",
    "        response= requests.get('http://quotes.toscrape.com/'+'/page/'+str(k)+'/')\n",
    "    data= bs(response.text,'html.parser')\n",
    "\n",
    "    lst=data.find_all(class_='author')\n",
    "    for j in lst:\n",
    "        author.append(j.string.strip())\n",
    "        dict[j.string.strip()]=dict.get(j.string.strip(),0)+1\n",
    "authors= sorted(set(author))\n",
    "csv_file_path = \"authors.csv\"\n",
    "\n",
    "# Write the data into the CSV file\n",
    "with open(csv_file_path, mode=\"w\", newline=\"\",encoding=\"utf-8\") as file:\n",
    "    writer = csv.writer(file)\n",
    "    writer.writerow([\"Authors Name\"])  # Write header row\n",
    "    writer.writerows([[movie] for movie in authors])\n",
    "\n",
    "print(\"CSV file created successfully!\")\n",
    "\n",
    " "
   ]
  },
  {
   "cell_type": "code",
   "execution_count": null,
   "id": "30d6f9de",
   "metadata": {},
   "outputs": [],
   "source": []
  }
 ],
 "metadata": {
  "kernelspec": {
   "display_name": "Python 3 (ipykernel)",
   "language": "python",
   "name": "python3"
  },
  "language_info": {
   "codemirror_mode": {
    "name": "ipython",
    "version": 3
   },
   "file_extension": ".py",
   "mimetype": "text/x-python",
   "name": "python",
   "nbconvert_exporter": "python",
   "pygments_lexer": "ipython3",
   "version": "3.10.9"
  }
 },
 "nbformat": 4,
 "nbformat_minor": 5
}
